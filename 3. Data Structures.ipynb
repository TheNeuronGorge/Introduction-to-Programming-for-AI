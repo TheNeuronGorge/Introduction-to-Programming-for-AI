{
 "cells": [
  {
   "cell_type": "markdown",
   "metadata": {
    "id": "0XMjAQtX0C3n"
   },
   "source": [
    "Notebook prepared by Muhammad Sohail Abbas\n",
    "\n",
    "# The Neuron Gorge\n",
    "# https://sites.google.com/view/theneurongorge "
   ]
  },
  {
   "cell_type": "markdown",
   "metadata": {
    "id": "9t1gKp9PL9eV"
   },
   "source": [
    "# PAI Lab 03\n",
    "\n",
    "## Outline\n",
    "* Default and Keyword Arguements\n",
    "* Python Classes\n",
    "* Multi Dimensional Lists\n",
    "* Tuple\n",
    "* Dictionaries\n",
    "* Lambda Function\n",
    "* File Reading"
   ]
  },
  {
   "cell_type": "markdown",
   "metadata": {},
   "source": [
    "## Multi Dimensional Lists"
   ]
  },
  {
   "cell_type": "code",
   "execution_count": 6,
   "metadata": {
    "colab": {
     "base_uri": "https://localhost:8080/"
    },
    "id": "jrwNScmD1Kva",
    "outputId": "f0728eae-17cd-42d0-98cf-32a9543515a0"
   },
   "outputs": [
    {
     "name": "stdout",
     "output_type": "stream",
     "text": [
      "[[2, 5, 7, 4, 5, 1, 11, 2, '5'], ['1', 11, 2, '5']]\n"
     ]
    }
   ],
   "source": [
    "# 2D List\n",
    "data_list = [[2,5,7,4,5,1,11,2,\"5\"],\n",
    "             ['1',11,2,\"5\"]]\n",
    "print(data_list)"
   ]
  },
  {
   "cell_type": "code",
   "execution_count": 5,
   "metadata": {},
   "outputs": [
    {
     "name": "stdout",
     "output_type": "stream",
     "text": [
      "2\n",
      "5\n",
      "7\n",
      "4\n",
      "5\n",
      "1\n",
      "11\n",
      "2\n",
      "5\n",
      "1\n",
      "11\n",
      "2\n",
      "5\n"
     ]
    }
   ],
   "source": [
    "for i in data_list:\n",
    "    for j in i:\n",
    "        print(j)"
   ]
  },
  {
   "cell_type": "code",
   "execution_count": 7,
   "metadata": {},
   "outputs": [
    {
     "name": "stdout",
     "output_type": "stream",
     "text": [
      "[[[2, 5, 7, 4, 5, 1, 11, 2, '5'], ['1', 11, 2, '5']], [[2, 5, 7, 4, 5, 1, 11, 2, '5'], ['1', 11, 2, '5']]]\n"
     ]
    }
   ],
   "source": [
    "# 3D List\n",
    "data_list = [[[2,5,7,4,5,1,11,2,\"5\"],\n",
    "              ['1',11,2,\"5\"]],\n",
    "            \n",
    "             [[2,5,7,4,5,1,11,2,\"5\"],\n",
    "              ['1',11,2,\"5\"]]]\n",
    "print(data_list)"
   ]
  },
  {
   "cell_type": "markdown",
   "metadata": {},
   "source": [
    "## Tuple\n",
    "* Immutable"
   ]
  },
  {
   "cell_type": "code",
   "execution_count": 17,
   "metadata": {
    "colab": {
     "base_uri": "https://localhost:8080/"
    },
    "id": "GcNFyJNk43_X",
    "outputId": "6cc16700-b4b9-4842-9317-1b2b48f52eed"
   },
   "outputs": [
    {
     "name": "stdout",
     "output_type": "stream",
     "text": [
      "('apple', 'apple', 'banana', 'cherry')\n"
     ]
    }
   ],
   "source": [
    "# Tuple\n",
    "# Tuple items are ordered, unchangeable, and allow duplicate values.\n",
    "data_tuple = (\"apple\",\"apple\", \"banana\", \"cherry\")\n",
    "print(data_tuple)"
   ]
  },
  {
   "cell_type": "markdown",
   "metadata": {},
   "source": [
    "## Dictionary\n",
    "* key-value pair"
   ]
  },
  {
   "cell_type": "code",
   "execution_count": 36,
   "metadata": {
    "colab": {
     "base_uri": "https://localhost:8080/"
    },
    "id": "HeYz4D_z2dqz",
    "outputId": "59b7cf16-6e0f-457b-efd6-ddba57ae7444"
   },
   "outputs": [
    {
     "name": "stdout",
     "output_type": "stream",
     "text": [
      "{'brand': 'Ford', 'model': 'Mustang', 'year': 1964}\n",
      "Ford\n"
     ]
    }
   ],
   "source": [
    "# Dictionary\n",
    "data_dict = {\n",
    "    \"brand\": \"Ford\",\n",
    "    \"model\": \"Mustang\",\n",
    "    \"year\": 1964\n",
    "}\n",
    "print(data_dict)\n",
    "print(data_dict['brand'])"
   ]
  },
  {
   "cell_type": "code",
   "execution_count": 25,
   "metadata": {},
   "outputs": [
    {
     "name": "stdout",
     "output_type": "stream",
     "text": [
      "{'brand': {'min': 'Ford', 'main': 'Fordeign'}, 'model': 'Mustang', 'year': 1964}\n",
      "{'min': 'Ford', 'main': 'Fordeign'}\n",
      "Ford\n"
     ]
    }
   ],
   "source": [
    "# Nested Dictionary\n",
    "data_dict = {\n",
    "    \"brand\": {\"min\":\"Ford\",\"main\":\"Fordeign\"},\n",
    "    \"model\": \"Mustang\",\n",
    "    \"year\": 1964\n",
    "}\n",
    "print(data_dict)\n",
    "print(data_dict['brand'])\n",
    "print(data_dict['brand']['min'])"
   ]
  },
  {
   "cell_type": "code",
   "execution_count": 26,
   "metadata": {},
   "outputs": [
    {
     "name": "stdout",
     "output_type": "stream",
     "text": [
      "{('name', 'brand'): 'Ford', ('model', 'brand'): 'Mustang', 'year': 1964}\n",
      "Mustang\n"
     ]
    }
   ],
   "source": [
    "# Dictionary with tuples in keys\n",
    "data_dict = {\n",
    "    (\"name\",\"brand\"): \"Ford\",\n",
    "    (\"model\", \"brand\"): \"Mustang\",\n",
    "    \"year\": 1964\n",
    "}\n",
    "print(data_dict)\n",
    "print(data_dict[('model','brand')])"
   ]
  },
  {
   "cell_type": "markdown",
   "metadata": {
    "id": "Iw8MmZiY5ds9"
   },
   "source": [
    "## Lambda Functions"
   ]
  },
  {
   "cell_type": "code",
   "execution_count": 40,
   "metadata": {
    "colab": {
     "base_uri": "https://localhost:8080/"
    },
    "id": "yoZJy9uc3yuD",
    "outputId": "b76ae1cf-4196-4d5f-a48a-903f627af08b"
   },
   "outputs": [
    {
     "data": {
      "text/plain": [
       "15"
      ]
     },
     "execution_count": 40,
     "metadata": {},
     "output_type": "execute_result"
    }
   ],
   "source": [
    "# simple function\n",
    "def add(a):\n",
    "  return a + 10\n",
    "\n",
    "add(5)"
   ]
  },
  {
   "cell_type": "markdown",
   "metadata": {
    "id": "EQUOfbKd559n"
   },
   "source": [
    "A lambda function is a small anonymous function.\n",
    "\n",
    "A lambda function can take any number of arguments, but can only have one expression."
   ]
  },
  {
   "cell_type": "code",
   "execution_count": 41,
   "metadata": {
    "colab": {
     "base_uri": "https://localhost:8080/"
    },
    "id": "LEo9zBeR5szr",
    "outputId": "d0d4a10e-0bfe-44fa-b4fa-62d5a710890e"
   },
   "outputs": [
    {
     "data": {
      "text/plain": [
       "15"
      ]
     },
     "execution_count": 41,
     "metadata": {},
     "output_type": "execute_result"
    }
   ],
   "source": [
    "x = lambda a : a + 10\n",
    "x(5)"
   ]
  },
  {
   "cell_type": "code",
   "execution_count": 42,
   "metadata": {
    "colab": {
     "base_uri": "https://localhost:8080/"
    },
    "id": "otvJp06t6AdX",
    "outputId": "cb754538-f717-486b-8501-6d2de6e922b6"
   },
   "outputs": [
    {
     "data": {
      "text/plain": [
       "30"
      ]
     },
     "execution_count": 42,
     "metadata": {},
     "output_type": "execute_result"
    }
   ],
   "source": [
    "x = lambda a, b : a * b\n",
    "x(5, 6)"
   ]
  },
  {
   "cell_type": "markdown",
   "metadata": {
    "id": "OEvBs4B86981"
   },
   "source": [
    "## Python Class"
   ]
  },
  {
   "cell_type": "code",
   "execution_count": 19,
   "metadata": {
    "id": "NcOfCWQN7A-_"
   },
   "outputs": [],
   "source": [
    "class Person:\n",
    "  def __init__(self, name, age):\n",
    "    self.name = name\n",
    "    self.age = age\n",
    "\n",
    "  def print_name(self):\n",
    "    print(self.name)\n"
   ]
  },
  {
   "cell_type": "code",
   "execution_count": 20,
   "metadata": {
    "colab": {
     "base_uri": "https://localhost:8080/"
    },
    "id": "6EdOj33b7SO4",
    "outputId": "0d3cbbb7-840a-4aa8-d377-c7f57451e7a5"
   },
   "outputs": [
    {
     "name": "stdout",
     "output_type": "stream",
     "text": [
      "Sohail\n",
      "25\n",
      "Sohail\n"
     ]
    }
   ],
   "source": [
    "p1 = Person(\"Sohail\", 25)\n",
    "\n",
    "print(p1.name)\n",
    "print(p1.age)\n",
    "p1.print_name()"
   ]
  },
  {
   "cell_type": "markdown",
   "metadata": {
    "id": "dlT8bB7v8J4j"
   },
   "source": [
    "## File Reading"
   ]
  },
  {
   "cell_type": "markdown",
   "metadata": {
    "id": "25G_Tdyg8bN4"
   },
   "source": [
    "The key function for working with files in Python is the open() function.\n",
    "\n",
    "The open() function takes two parameters; filename, and mode.\n",
    "\n",
    "In addition you can specify if the file should be handled as binary or text mode\n",
    "\n",
    "\"t\" - Text - Default value. Text mode\n"
   ]
  },
  {
   "cell_type": "code",
   "execution_count": 18,
   "metadata": {
    "id": "x6lW6iIf7-jZ"
   },
   "outputs": [],
   "source": [
    "f = open(\"Strings.txt\")"
   ]
  },
  {
   "cell_type": "code",
   "execution_count": 19,
   "metadata": {
    "id": "buzLZWAp8xAJ"
   },
   "outputs": [],
   "source": [
    "f = open(\"Strings.txt\", \"rt\")"
   ]
  },
  {
   "cell_type": "markdown",
   "metadata": {
    "id": "WtXAfP2C86YC"
   },
   "source": [
    "Because \"r\" for read, and \"t\" for text are the default values, you do not need to specify them."
   ]
  },
  {
   "cell_type": "code",
   "execution_count": 20,
   "metadata": {
    "id": "BmcDuloc_cK3"
   },
   "outputs": [
    {
     "name": "stdout",
     "output_type": "stream",
     "text": [
      "['A', '', '', '', 'A-  prefix (also an- before a vowel sound) not, without (amoral). [greek]']\n"
     ]
    }
   ],
   "source": [
    "f = open(\"Strings.txt\", \"rt\",encoding=\"utf-8\")\n",
    "text = []\n",
    "# loop through each line\n",
    "for line in f.readlines():\n",
    "    text.append(line.strip())\n",
    "    \n",
    "print(text[:5])"
   ]
  },
  {
   "cell_type": "markdown",
   "metadata": {
    "id": "YCyGmYPWAKVl"
   },
   "source": [
    "For File writing and deletion visit [Documentation](https://www.w3schools.com/python/python_file_write.asp)"
   ]
  },
  {
   "cell_type": "markdown",
   "metadata": {
    "id": "NFREEcGyBR9T"
   },
   "source": [
    "# Lab Task"
   ]
  },
  {
   "cell_type": "markdown",
   "metadata": {},
   "source": [
    "## Prime Number Checker\n",
    "\n",
    "Write a function that checks whether a given positive integer is a prime number. Ask the user for an input integer and display whether it is prime or not."
   ]
  },
  {
   "cell_type": "code",
   "execution_count": null,
   "metadata": {},
   "outputs": [],
   "source": [
    "# YOUR CODE HERE\n"
   ]
  },
  {
   "cell_type": "markdown",
   "metadata": {},
   "source": [
    "## Phone Book\n",
    "* Create a dictionary representing a phone book with names and phone numbers. Implement functions to add, delete, and search for entries in the phone book."
   ]
  },
  {
   "cell_type": "code",
   "execution_count": null,
   "metadata": {},
   "outputs": [],
   "source": [
    "# YOUR CODE HERE\n"
   ]
  },
  {
   "cell_type": "markdown",
   "metadata": {},
   "source": [
    "## Student Record\n",
    "* Create a dictionary to store information about multiple students. Each student's data should include name, age, and a list of their favorite subjects. Write a function to display the subjects that all students have in common. (nested dictionary)"
   ]
  },
  {
   "cell_type": "code",
   "execution_count": null,
   "metadata": {},
   "outputs": [],
   "source": [
    "# YOUR CODE HERE\n"
   ]
  },
  {
   "cell_type": "markdown",
   "metadata": {},
   "source": [
    "## Best Student\n",
    "* Create two tuples representing lists of students (e.g., students in two different classes). Write a function to merge the two tuples into a single tuple."
   ]
  },
  {
   "cell_type": "code",
   "execution_count": null,
   "metadata": {},
   "outputs": [],
   "source": [
    "# YOUR CODE HERE\n"
   ]
  },
  {
   "cell_type": "markdown",
   "metadata": {},
   "source": [
    "## Element Comparison\n",
    "* Create two tuples of numbers. Write a function to compare the two tuples element-wise and return a tuple indicating which elements are greater, smaller, or equal."
   ]
  },
  {
   "cell_type": "code",
   "execution_count": null,
   "metadata": {},
   "outputs": [],
   "source": [
    "# YOUR CODE HERE\n"
   ]
  },
  {
   "cell_type": "markdown",
   "metadata": {},
   "source": [
    "## Map\n",
    "* Create a dictionary where the keys are tuples representing (latitude, longitude) coordinates, and the values are city names. Implement a function to find the city name closest to a given set of coordinates."
   ]
  },
  {
   "cell_type": "code",
   "execution_count": null,
   "metadata": {},
   "outputs": [],
   "source": [
    "# YOUR CODE HERE\n"
   ]
  },
  {
   "cell_type": "markdown",
   "metadata": {},
   "source": [
    "## Library Catalog System\n",
    "\n",
    "* Build a library catalog system that keeps track of books, authors, and their availability using dictionaries, lists, and tuples.\n",
    "\n",
    "* Create a dictionary where the keys are authors' names, and the values are lists of tuples. Each tuple represents a book with details (e.g., title, publication year, availability status).\n",
    "\n",
    "### Implement functions to:\n",
    "* Add new books to the catalog.\n",
    "* Mark a book as borrowed or returned.\n",
    "* Display a list of books by a specific author.\n",
    "* Find and display the oldest and newest books in the catalog.\n",
    "* List books that are currently available for borrowing."
   ]
  },
  {
   "cell_type": "code",
   "execution_count": null,
   "metadata": {},
   "outputs": [],
   "source": [
    "# YOUR CODE HERE\n"
   ]
  },
  {
   "cell_type": "markdown",
   "metadata": {},
   "source": [
    "## apping Celsius to Fahrenheit\n",
    "\n",
    "* Create a list of temperatures in Celsius and use a lambda function to convert them to Fahrenheit."
   ]
  },
  {
   "cell_type": "code",
   "execution_count": null,
   "metadata": {},
   "outputs": [],
   "source": [
    "# YOUR CODE HERE\n"
   ]
  },
  {
   "cell_type": "markdown",
   "metadata": {
    "id": "pvKyxy7aDAYQ"
   },
   "source": [
    "## Create a Book Class\n",
    "\n",
    "Create a Book class with attributes for title, author, and price. Implement a method to display book information."
   ]
  },
  {
   "cell_type": "code",
   "execution_count": null,
   "metadata": {
    "id": "WS88JWXRC1Ax"
   },
   "outputs": [],
   "source": [
    "# YOUR CODE HERE\n"
   ]
  },
  {
   "cell_type": "markdown",
   "metadata": {
    "id": "pzqUjFkuEdT6"
   },
   "source": [
    "## Find longest word from file \"Strings.txt\""
   ]
  },
  {
   "cell_type": "code",
   "execution_count": 125,
   "metadata": {
    "id": "Syhkc-PuEjrL"
   },
   "outputs": [],
   "source": [
    "# YOUR CODE HERE\n"
   ]
  },
  {
   "cell_type": "markdown",
   "metadata": {},
   "source": [
    "## Enlist all words starting with letter L or M (upper or lower case)"
   ]
  },
  {
   "cell_type": "code",
   "execution_count": null,
   "metadata": {},
   "outputs": [],
   "source": [
    "# YOUR CODE HERE\n"
   ]
  }
 ],
 "metadata": {
  "colab": {
   "collapsed_sections": [],
   "name": "PAI-Lab-02.ipynb",
   "provenance": []
  },
  "kernelspec": {
   "display_name": "Python 3 (ipykernel)",
   "language": "python",
   "name": "python3"
  },
  "language_info": {
   "codemirror_mode": {
    "name": "ipython",
    "version": 3
   },
   "file_extension": ".py",
   "mimetype": "text/x-python",
   "name": "python",
   "nbconvert_exporter": "python",
   "pygments_lexer": "ipython3",
   "version": "3.8.13"
  }
 },
 "nbformat": 4,
 "nbformat_minor": 1
}
