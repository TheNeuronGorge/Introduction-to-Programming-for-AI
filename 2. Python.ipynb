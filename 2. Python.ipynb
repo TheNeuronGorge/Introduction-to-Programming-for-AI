{
 "cells": [
  {
   "cell_type": "markdown",
   "id": "4d9e0985",
   "metadata": {},
   "source": [
    "Created by Muhammad Sohail Abbas\n",
    "sohail.abbas@isb.nu.edu.pk\n",
    "\n",
    "# The Neuron Gorge\n",
    "# https://sites.google.com/view/theneurongorge \n",
    "\n",
    "# Lab 02\n",
    "\n",
    "## Table of Contents:\n",
    "* Introduction\n",
    "* Variables and Data Types\n",
    "* Reserved Words\n",
    "* Assignment Operator\n",
    "* Type Command\n",
    "* Arithmetic Operators\n",
    "* Comparison Operators\n",
    "* Strings\n",
    "* String Functions\n",
    "* 1D Lists\n",
    "* List Functions\n",
    "* Exercises"
   ]
  },
  {
   "cell_type": "markdown",
   "id": "d088575f",
   "metadata": {},
   "source": []
  },
  {
   "cell_type": "markdown",
   "id": "3e54c57e",
   "metadata": {},
   "source": [
    "## Introduction\n",
    "In this lab, you'll learn about essential concepts like variables, operators, strings, and lists in Python. These fundamental concepts form the building blocks of programming and are crucial to understanding more complex topics."
   ]
  },
  {
   "cell_type": "markdown",
   "id": "ff59858c",
   "metadata": {},
   "source": [
    "## Variables and Data Types\n",
    "* int: Integer numbers\n",
    "* float: Floating-point numbers\n",
    "* str: Strings (text)\n",
    "* bool: Boolean values (True or False)"
   ]
  },
  {
   "cell_type": "code",
   "execution_count": 10,
   "id": "a7041f86",
   "metadata": {},
   "outputs": [
    {
     "name": "stdout",
     "output_type": "stream",
     "text": [
      "this is my data 234 True 68.78\n"
     ]
    }
   ],
   "source": [
    "data=\"this is my data\"\n",
    "id_no=234\n",
    "present=True\n",
    "percentage=68.78\n",
    "\n",
    "print(data, id_no, present, percentage)"
   ]
  },
  {
   "cell_type": "markdown",
   "id": "44912c74",
   "metadata": {},
   "source": [
    "## Reserved Words\n",
    "Reserved words are words that have special meanings in Python and cannot be used as variable names. Examples include if, else, while, for, and more."
   ]
  },
  {
   "cell_type": "markdown",
   "id": "cea61688",
   "metadata": {},
   "source": [
    "## Assignment Operator\n",
    "The assignment operator (=) is used to assign a value to a variable."
   ]
  },
  {
   "cell_type": "markdown",
   "id": "68752892",
   "metadata": {},
   "source": [
    "## Type Command\n",
    "The type() function is used to determine the data type of a variable."
   ]
  },
  {
   "cell_type": "code",
   "execution_count": 11,
   "id": "8789cf27",
   "metadata": {},
   "outputs": [
    {
     "name": "stdout",
     "output_type": "stream",
     "text": [
      "<class 'str'>\n"
     ]
    }
   ],
   "source": [
    "x=type(data)\n",
    "print(x)"
   ]
  },
  {
   "cell_type": "markdown",
   "id": "a2ba6b74",
   "metadata": {},
   "source": [
    "## Arithmetic Operators\n",
    "Arithmetic operators perform mathematical operations:\n",
    "\n",
    "* +, -, *, /: Addition, subtraction, multiplication, division\n",
    "* %: Modulus (remainder)\n",
    "* **: Exponentiation (power)\n",
    "* //: Floor division (division with the result rounded down)"
   ]
  },
  {
   "cell_type": "code",
   "execution_count": 15,
   "id": "7fe99ed9",
   "metadata": {},
   "outputs": [
    {
     "name": "stdout",
     "output_type": "stream",
     "text": [
      "134 279841 1\n"
     ]
    }
   ],
   "source": [
    "x=56\n",
    "y=78\n",
    "sum=x+y\n",
    "exp=23 ** 4\n",
    "fd=y//x\n",
    "\n",
    "print(sum, exp,fd)"
   ]
  },
  {
   "cell_type": "markdown",
   "id": "fda10e1d",
   "metadata": {},
   "source": [
    "## Comparison Operators\n",
    "Comparison operators are used to compare values:\n",
    "\n",
    "* ==: Equal to\n",
    "* !=: Not equal to\n",
    "* <, >, <=, >=: Less than, greater than, less than or equal to, greater than or equal to"
   ]
  },
  {
   "cell_type": "markdown",
   "id": "bd430187",
   "metadata": {},
   "source": [
    "## Strings\n",
    "Strings are sequences of characters enclosed in single (' ') or double (\" \") quotes.\n",
    "\n",
    "String Functions:\n",
    "\n",
    "* len(): Returns the length of a string.\n",
    "* replace(): Replaces a substring with another substring.\n",
    "* Indexing: Access individual characters using index values.\n",
    "* Slicing: Extract a substring using slicing notation, e.g., [start:end]."
   ]
  },
  {
   "cell_type": "code",
   "execution_count": 24,
   "id": "50920c20",
   "metadata": {},
   "outputs": [
    {
     "name": "stdout",
     "output_type": "stream",
     "text": [
      "SoHail\n",
      "6\n",
      "Hail\n",
      "i\n"
     ]
    }
   ],
   "source": [
    "name=\"Sohail\"\n",
    "name=name.replace('h','H')\n",
    "\n",
    "print(name)\n",
    "print(len(name))\n",
    "print(name[2:])\n",
    "print(name[4])"
   ]
  },
  {
   "cell_type": "markdown",
   "id": "60429288",
   "metadata": {},
   "source": [
    "## 1D Lists\n",
    "Lists are ordered collections of items. Lists can contain elements of different types.\n",
    "\n",
    "List Functions:\n",
    "\n",
    "* range(): Generates a sequence of numbers.\n",
    "* append(): Adds an item to the end of the list.\n",
    "* insert(): Inserts an item at a specific index.\n",
    "* Indexing: Access individual items using index values.\n",
    "* Slicing: Extract a sublist using slicing notation, e.g., [start:end]."
   ]
  },
  {
   "cell_type": "code",
   "execution_count": 25,
   "id": "abf7f1f4",
   "metadata": {},
   "outputs": [
    {
     "name": "stdout",
     "output_type": "stream",
     "text": [
      "[23, 'data', True]\n",
      "[23, 'data', False, True]\n",
      "[23, 'data', False, True, 'minimum']\n",
      "[23, 'data', False]\n"
     ]
    }
   ],
   "source": [
    "lst=[]\n",
    "lst=[23,\"data\",True]\n",
    "print(lst)\n",
    "lst.insert(2,False)\n",
    "print(lst)\n",
    "lst.append(\"minimum\")\n",
    "print(lst)\n",
    "print(lst[:3])"
   ]
  },
  {
   "cell_type": "markdown",
   "id": "9ef8b27f",
   "metadata": {},
   "source": [
    "# Exercises\n",
    "\n",
    "We are creating a database where we are going to store following items\n",
    "\n",
    "## Product Sales\n",
    "\n",
    "* product_id\n",
    "* product_name\n",
    "* unit_price (list i.e. 5000 for non members, 4000 for members, 3000 for VIPs)\n",
    "* quantity_sold\n",
    "* total_revenue\n",
    "\n",
    "Your job is to identify the data-type to be used for each of above values. Also create an example for one record using variables and values of appropriate data-types. Print Values\n"
   ]
  },
  {
   "cell_type": "code",
   "execution_count": 1,
   "id": "99b38cde",
   "metadata": {},
   "outputs": [],
   "source": [
    "# YOUR CODE HERE\n"
   ]
  },
  {
   "cell_type": "markdown",
   "id": "03c4bf75",
   "metadata": {},
   "source": [
    "Do same as above for following:\n",
    "\n",
    "## Customer Orders\n",
    "\n",
    "* order_id\n",
    "* customer_name\n",
    "* order_items\n",
    "* discount (list i.e. 5% for non members, 10% for members, 15% for VIPs)\n",
    "* order_total\n",
    "* order_date\n",
    "\n",
    "## Temperature Monitoring\n",
    "\n",
    "* sensor_id\n",
    "* location\n",
    "* temperature_readings (list)\n",
    "* average_temperature\n",
    "* timestamp"
   ]
  },
  {
   "cell_type": "code",
   "execution_count": 2,
   "id": "e1cdeae1",
   "metadata": {},
   "outputs": [],
   "source": [
    "# YOUR CODE HERE\n"
   ]
  },
  {
   "cell_type": "markdown",
   "id": "57e7eb69",
   "metadata": {},
   "source": [
    "Use assignment Operator to assign new values to one of the above scenerios and print again"
   ]
  },
  {
   "cell_type": "code",
   "execution_count": null,
   "id": "a6a4170f",
   "metadata": {},
   "outputs": [],
   "source": [
    "# YOUR CODE HERE\n"
   ]
  },
  {
   "cell_type": "markdown",
   "id": "e2e04536",
   "metadata": {},
   "source": [
    "Use arithmatic operators in all of above examples where a list of numbers is used to compute average values (do not use loops)"
   ]
  },
  {
   "cell_type": "code",
   "execution_count": null,
   "id": "163e0b11",
   "metadata": {},
   "outputs": [],
   "source": [
    "# YOUR CODE HERE\n"
   ]
  },
  {
   "cell_type": "markdown",
   "id": "2a06acd5",
   "metadata": {},
   "source": [
    "use ** operator on lists in all above examples (if list is stotoring numbers)"
   ]
  },
  {
   "cell_type": "code",
   "execution_count": null,
   "id": "0bd19a35",
   "metadata": {},
   "outputs": [],
   "source": [
    "# YOUR CODE HERE\n"
   ]
  },
  {
   "cell_type": "markdown",
   "id": "375eeeb2",
   "metadata": {},
   "source": [
    "use // operator on at least one examples from each of above scenerios"
   ]
  },
  {
   "cell_type": "code",
   "execution_count": null,
   "id": "093797b5",
   "metadata": {},
   "outputs": [],
   "source": [
    "# YOUR CODE HERE\n"
   ]
  },
  {
   "cell_type": "markdown",
   "id": "43016a7b",
   "metadata": {},
   "source": [
    "## Announcement Preview\n",
    "You're developing an announcement preview tool for a messaging platform. The tool needs to provide a concise preview of longer messages.\n",
    "\n",
    "### Task:\n",
    "Given a message: \"Join us for the webinar on Aug 30, 2023, 2:00 PM (GMT)\", perform the following tasks:\n",
    "\n",
    "* Calculate the length of the message.\n",
    "* Replace the word \"webinar\" with \"online session\".\n",
    "* Extract the date \"Aug 30, 2023\".\n",
    "* Create a shortened preview containing only the first 40 characters.\n",
    "* Extract time.\n",
    "\n",
    "Print all the results"
   ]
  },
  {
   "cell_type": "code",
   "execution_count": 3,
   "id": "bfdd57b1",
   "metadata": {},
   "outputs": [],
   "source": [
    "# YOUR CODE HERE\n"
   ]
  },
  {
   "cell_type": "markdown",
   "id": "980f0e00",
   "metadata": {},
   "source": [
    "## Invoice Formatter\n",
    "You're building an invoice formatting tool for an accounting application. The tool should clean up invoice details for presentation.\n",
    "\n",
    "## Task:\n",
    "Given an invoice description: \"Invoice #12345 for Payment Due on 2023-10-15\", perform the following tasks:\n",
    "\n",
    "* Calculate the length of the invoice description.\n",
    "* Replace \"Invoice\" with \"Bill\" in the description.\n",
    "* Extract the invoice number \"12345\".\n",
    "* Create a shorter version of the description containing only the first 25 characters.\n",
    "\n",
    "Print all the results."
   ]
  },
  {
   "cell_type": "code",
   "execution_count": null,
   "id": "aa259472",
   "metadata": {},
   "outputs": [],
   "source": [
    "# YOUR CODE HERE\n"
   ]
  },
  {
   "cell_type": "markdown",
   "id": "f7896f53",
   "metadata": {},
   "source": [
    "## Recipe Title Formatter\n",
    "You're developing a recipe title formatter for a cooking app. The goal is to ensure that recipe titles are consistent and user-friendly.\n",
    "\n",
    "### Task:\n",
    "Given a recipe title: \"Delicious Chocolate Chip Cookies Recipe\", perform the following tasks:\n",
    "\n",
    "* Calculate the length of the recipe title.\n",
    "* Replace \"Delicious\" with \"Tasty\" in the title.\n",
    "* Extract the word \"Cookies\".\n",
    "* Create a shorter version of the title containing only the first 30 characters.\n",
    "* Extract dish name from it\n",
    "\n",
    "Print all the results."
   ]
  },
  {
   "cell_type": "code",
   "execution_count": 4,
   "id": "6f3dd964",
   "metadata": {},
   "outputs": [],
   "source": [
    "# YOUR CODE HERE\n"
   ]
  },
  {
   "cell_type": "markdown",
   "id": "25ef1232",
   "metadata": {},
   "source": [
    "## Playlist Organizer\n",
    "You're building a tool to organize playlists for a music app.\n",
    "\n",
    "### Task:\n",
    "Given a playlist: ['Song 1', 'Song 2', 'Song 3', 'Song 4'], perform the following tasks:\n",
    "\n",
    "* Create an empty playlist for favorite songs.\n",
    "* Append 'Favorite Song' to the favorite songs playlist.\n",
    "* Insert 'Top Hit' as the second song in the playlist.\n",
    "* Extract the last song from the original playlist.\n",
    "* Create a summarized playlist containing only the first three songs.\n",
    "\n",
    "Print all the results."
   ]
  },
  {
   "cell_type": "code",
   "execution_count": 5,
   "id": "f33b428f",
   "metadata": {},
   "outputs": [],
   "source": [
    "# YOUR CODE HERE\n"
   ]
  },
  {
   "cell_type": "markdown",
   "id": "86e05828",
   "metadata": {},
   "source": [
    "## Fitness Progress Tracker\n",
    "You're developing a fitness progress tracker that records different exercises performed each day.\n",
    "\n",
    "### Task:\n",
    "Given exercise logs: ['Running', 'Push-ups', 'Yoga', 'Swimming'], perform the following tasks:\n",
    "\n",
    "* Create an empty log for cardio exercises.\n",
    "* Append 'Cycling' to the cardio log.\n",
    "* Insert 'Plank' as the second exercise in the log.\n",
    "* Extract the exercise 'Yoga' from the list.\n",
    "* Create a brief cardio log containing only the first two exercises.\n",
    "* Extract all items from list\n",
    "* Extract  all items except first and last from list\n",
    "\n",
    "Print all the results."
   ]
  },
  {
   "cell_type": "code",
   "execution_count": 6,
   "id": "ebdff823",
   "metadata": {},
   "outputs": [],
   "source": [
    "# YOUR CODE HERE\n"
   ]
  },
  {
   "cell_type": "markdown",
   "id": "708ba589",
   "metadata": {},
   "source": [
    "## Bookshelf Organizer\n",
    "You're working on a bookshelf organizer for a library app.\n",
    "\n",
    "### Task:\n",
    "Given a list of book titles: ['Book A', 'Book B', 'Book C', 'Book D'], perform the following tasks:\n",
    "\n",
    "* Create an empty list for recommended books.\n",
    "* Append 'Recommended Book' to the recommended books list.\n",
    "* Insert 'Bestseller' as the second book in the list.\n",
    "* Extract the last book from the list.\n",
    "* Create a concise book list containing only the first three books.\n",
    "* Insert \"Thore\" as last item in list\n",
    "\n",
    "Print all the results."
   ]
  },
  {
   "cell_type": "code",
   "execution_count": 7,
   "id": "2db8678f",
   "metadata": {},
   "outputs": [],
   "source": [
    "# YOUR CODE HERE\n"
   ]
  },
  {
   "cell_type": "markdown",
   "id": "a6baa944",
   "metadata": {},
   "source": [
    "## Event Registration Manager\n",
    "You're developing an event registration manager that collects participant details and manages their event preferences. The manager uses strings, string operations, 1D lists, and various list functions to organize participant information.\n",
    "\n",
    "### Scenario:\n",
    "As a participant, you're required to provide your name, age, and event preferences. The system will process your input and organize the data accordingly.\n",
    "\n",
    "#### Task 1: Participant Information\n",
    "* Enter your first name, last name, and age as separate strings.\n",
    "* Calculate the length of your full name.\n",
    "* Replace your age with \"XX\" for privacy.\n",
    "* Extract the initials of your first and last names.\n",
    "* Create a participant ID using the first two letters of your first name, the last two letters of your last name, and \"2023\" (e.g., \"JoDoe2023\").\n",
    "\n",
    "#### Task 2: Event Preferences\n",
    "* Create an empty list for event preferences.\n",
    "* Append three event options of your choice to the list.\n",
    "* Insert a new event option at the second position.\n",
    "* Extract the last event option from the list.\n",
    "* Create a shortened version of the list containing only the first two event options.\n",
    "\n",
    "Print all the results, including your participant information and the modified event preferences list."
   ]
  },
  {
   "cell_type": "code",
   "execution_count": 8,
   "id": "ceba0471",
   "metadata": {},
   "outputs": [],
   "source": [
    "# YOUR CODE HERE\n"
   ]
  },
  {
   "cell_type": "markdown",
   "id": "e915c00c",
   "metadata": {},
   "source": [
    "## Coulomb's Law Calculator\n",
    "You're developing a calculator to apply Coulomb's law for electrostatic interactions.\n",
    "\n",
    "### Scenario:\n",
    "As a user, you'll input the charges (q1 and q2) of two objects and the distance (r) between them. The calculator will determine the electrostatic force (F) between the objects.\n",
    "\n",
    "#### Task:\n",
    "* Enter the charges of the two objects (q1 and q2) and the distance (r).\n",
    "* Calculate the electrostatic force (F) using Coulomb's law: F = k * q1 * q2 / r^2, where k is the electrostatic constant."
   ]
  },
  {
   "cell_type": "code",
   "execution_count": 26,
   "id": "a40292c7",
   "metadata": {},
   "outputs": [],
   "source": [
    "#YOUR CODE HERE\n"
   ]
  },
  {
   "cell_type": "markdown",
   "id": "b30b01a0",
   "metadata": {},
   "source": [
    "<center><h2 style=\"font-family: 'Vladimir Script', serif;\">Happy Coding</h2></center>"
   ]
  }
 ],
 "metadata": {
  "kernelspec": {
   "display_name": "Python 3 (ipykernel)",
   "language": "python",
   "name": "python3"
  },
  "language_info": {
   "codemirror_mode": {
    "name": "ipython",
    "version": 3
   },
   "file_extension": ".py",
   "mimetype": "text/x-python",
   "name": "python",
   "nbconvert_exporter": "python",
   "pygments_lexer": "ipython3",
   "version": "3.8.13"
  }
 },
 "nbformat": 4,
 "nbformat_minor": 5
}
